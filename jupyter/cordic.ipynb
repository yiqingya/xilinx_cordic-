{
 "cells": [
  {
   "cell_type": "markdown",
   "id": "b86726e2",
   "metadata": {},
   "source": [
    "# 导入bit文件"
   ]
  },
  {
   "cell_type": "code",
   "execution_count": 77,
   "id": "1772dbe9",
   "metadata": {},
   "outputs": [],
   "source": [
    "import math\n",
    "from pynq import Overlay\n",
    "overlay = Overlay(\"../overlay/cordic.bit\")\n",
    "cordic = overlay.cordiccart2pol_0\n",
    "x=math.sin(math.pi/3)\n",
    "y=math.cos(math.pi/3)"
   ]
  },
  {
   "cell_type": "markdown",
   "id": "92f93cef",
   "metadata": {},
   "source": [
    "## 查看寄存器 "
   ]
  },
  {
   "cell_type": "code",
   "execution_count": 78,
   "id": "b8444ba4",
   "metadata": {},
   "outputs": [
    {
     "data": {
      "text/plain": [
       "RegisterMap {\n",
       "  CTRL = Register(AP_START=0, AP_DONE=0, AP_IDLE=1, AP_READY=0, RESERVED_1=0, AUTO_RESTART=0, RESERVED_2=0),\n",
       "  GIER = Register(Enable=0, RESERVED=0),\n",
       "  IP_IER = Register(CHAN0_INT_EN=0, CHAN1_INT_EN=0, RESERVED=0),\n",
       "  IP_ISR = Register(CHAN0_INT_ST=0, CHAN1_INT_ST=0, RESERVED=0),\n",
       "  x = Register(x=write-only),\n",
       "  y = Register(y=write-only),\n",
       "  r = Register(r=0),\n",
       "  r_ctrl = Register(r_ap_vld=0, RESERVED=0),\n",
       "  theta = Register(theta=0),\n",
       "  theta_ctrl = Register(theta_ap_vld=0, RESERVED=0)\n",
       "}"
      ]
     },
     "execution_count": 78,
     "metadata": {},
     "output_type": "execute_result"
    }
   ],
   "source": [
    "cordic.register_map"
   ]
  },
  {
   "cell_type": "markdown",
   "id": "1fd8423b",
   "metadata": {},
   "source": [
    "# 输入要计算的x值与y值"
   ]
  },
  {
   "cell_type": "code",
   "execution_count": 87,
   "id": "b713fbab",
   "metadata": {},
   "outputs": [],
   "source": [
    "import struct\n",
    "\n",
    "x_input=1;\n",
    "y_input=1.732;\n",
    "def floatToBytes(f):\n",
    "    bs = struct.pack(\"f\",f)\n",
    "    return (bs[3]<<24)+(bs[2]<<16)+(bs[1]<<8)+bs[0]\n",
    "\n",
    "x=floatToBytes(x_input)  #将输入浮点数转换为二进制\n",
    "y=floatToBytes(y_input)  \n",
    "cordic.write(0x10,x)     #写入相应的寄存器中\n",
    "cordic.write(0x18,y)"
   ]
  },
  {
   "cell_type": "markdown",
   "id": "394d5629",
   "metadata": {},
   "source": [
    "### 开始执行"
   ]
  },
  {
   "cell_type": "code",
   "execution_count": 88,
   "id": "678bd073",
   "metadata": {},
   "outputs": [
    {
     "name": "stdout",
     "output_type": "stream",
     "text": [
      "耗时：0.0008895397186279297s\n"
     ]
    }
   ],
   "source": [
    "import time\n",
    "\n",
    "cordic.register_map.CTRL.AP_START = 1\n",
    "\n",
    "start_time = time.time()\n",
    "\n",
    "while True:\n",
    "    reg = cordic.register_map.CTRL.AP_START\n",
    "    if reg != 1:\n",
    "        break\n",
    "\n",
    "end_time = time.time()\n",
    "\n",
    "print(\"耗时：{}s\".format(end_time - start_time))"
   ]
  },
  {
   "cell_type": "markdown",
   "id": "1d71692f",
   "metadata": {},
   "source": [
    "### 读出坐标的模值"
   ]
  },
  {
   "cell_type": "code",
   "execution_count": 89,
   "id": "bd5a3c15",
   "metadata": {},
   "outputs": [
    {
     "name": "stdout",
     "output_type": "stream",
     "text": [
      "模值为\n",
      "1.9999561309814453\n"
     ]
    }
   ],
   "source": [
    "r=cordic.read(0x20)\n",
    "\n",
    "def bytesToFloat(h1,h2,h3,h4):\n",
    "    ba = bytearray()\n",
    "    ba.append(h1)\n",
    "    ba.append(h2)\n",
    "    ba.append(h3)\n",
    "    ba.append(h4)\n",
    "    return struct.unpack(\"!f\",ba)[0]\n",
    "\n",
    "h1=(r&0xff000000)>>24\n",
    "h2=(r&0x00ff0000)>>16\n",
    "h3=(r&0x0000ff00)>>8\n",
    "h4=(r&0x000000ff)\n",
    "print(\"模值为\")\n",
    "print(bytesToFloat(h1,h2,h3,h4))  ##将二进制转换为浮点数"
   ]
  },
  {
   "cell_type": "markdown",
   "id": "d37e6324",
   "metadata": {},
   "source": [
    "### 读出坐标的角度"
   ]
  },
  {
   "cell_type": "code",
   "execution_count": 90,
   "id": "3bb3befb",
   "metadata": {},
   "outputs": [
    {
     "name": "stdout",
     "output_type": "stream",
     "text": [
      "角度为\n",
      "59.9991615563842\n"
     ]
    }
   ],
   "source": [
    "theta=cordic.read(0x30)\n",
    "h1=(theta&0xff000000)>>24\n",
    "h2=(theta&0x00ff0000)>>16\n",
    "h3=(theta&0x0000ff00)>>8\n",
    "h4=(theta&0x000000ff)\n",
    "print(\"角度为\")\n",
    "print(bytesToFloat(h1,h2,h3,h4)/math.pi*180)"
   ]
  },
  {
   "cell_type": "code",
   "execution_count": null,
   "id": "b0c09dd6",
   "metadata": {},
   "outputs": [],
   "source": []
  }
 ],
 "metadata": {
  "kernelspec": {
   "display_name": "Python 3",
   "language": "python",
   "name": "python3"
  },
  "language_info": {
   "codemirror_mode": {
    "name": "ipython",
    "version": 3
   },
   "file_extension": ".py",
   "mimetype": "text/x-python",
   "name": "python",
   "nbconvert_exporter": "python",
   "pygments_lexer": "ipython3",
   "version": "3.8.2"
  }
 },
 "nbformat": 4,
 "nbformat_minor": 5
}
