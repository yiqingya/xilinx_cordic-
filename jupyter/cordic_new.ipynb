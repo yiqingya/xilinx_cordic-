{
 "cells": [
  {
   "cell_type": "markdown",
   "id": "b86726e2",
   "metadata": {},
   "source": [
    "# Cordic实验\n",
    "- 完成功能：1.输入横坐标x与纵坐标y，可得坐标对应的模长及角度    2.输入角度（0-90），可得角度对应的正弦与余弦值\n",
    "- 说明：1.vivado工程共导入两个ip核，分别完成功能1与功能2\n",
    "     \n",
    "## 1.导入bit文件"
   ]
  },
  {
   "cell_type": "code",
   "execution_count": 63,
   "id": "1772dbe9",
   "metadata": {},
   "outputs": [],
   "source": [
    "import math\n",
    "from pynq import Overlay\n",
    "overlay = Overlay(\"../overlay/cordic_new.bit\")\n",
    "cordic = overlay.cordiccart2pol_0  #实现功能1\n",
    "cordic_2=overlay.cordic_0    #实现功能2"
   ]
  },
  {
   "cell_type": "markdown",
   "id": "92f93cef",
   "metadata": {},
   "source": [
    "## 2.查看寄存器 "
   ]
  },
  {
   "cell_type": "code",
   "execution_count": 64,
   "id": "b8444ba4",
   "metadata": {},
   "outputs": [
    {
     "data": {
      "text/plain": [
       "RegisterMap {\n",
       "  CTRL = Register(AP_START=0, AP_DONE=0, AP_IDLE=1, AP_READY=0, RESERVED_1=0, AUTO_RESTART=0, RESERVED_2=0),\n",
       "  GIER = Register(Enable=0, RESERVED=0),\n",
       "  IP_IER = Register(CHAN0_INT_EN=0, CHAN1_INT_EN=0, RESERVED=0),\n",
       "  IP_ISR = Register(CHAN0_INT_ST=0, CHAN1_INT_ST=0, RESERVED=0),\n",
       "  x = Register(x=write-only),\n",
       "  y = Register(y=write-only),\n",
       "  r = Register(r=0),\n",
       "  r_ctrl = Register(r_ap_vld=0, RESERVED=0),\n",
       "  theta = Register(theta=0),\n",
       "  theta_ctrl = Register(theta_ap_vld=0, RESERVED=0)\n",
       "}"
      ]
     },
     "execution_count": 64,
     "metadata": {},
     "output_type": "execute_result"
    }
   ],
   "source": [
    "cordic.register_map #x与y代表横纵坐标，r代表模长，theta代表角度"
   ]
  },
  {
   "cell_type": "code",
   "execution_count": 65,
   "id": "99024886",
   "metadata": {},
   "outputs": [
    {
     "data": {
      "text/plain": [
       "RegisterMap {\n",
       "  CTRL = Register(AP_START=0, AP_DONE=0, AP_IDLE=1, AP_READY=0, RESERVED_1=0, AUTO_RESTART=0, RESERVED_2=0),\n",
       "  GIER = Register(Enable=0, RESERVED=0),\n",
       "  IP_IER = Register(CHAN0_INT_EN=0, CHAN1_INT_EN=0, RESERVED=0),\n",
       "  IP_ISR = Register(CHAN0_INT_ST=0, CHAN1_INT_ST=0, RESERVED=0),\n",
       "  theta = Register(theta=write-only, RESERVED=write-only),\n",
       "  s = Register(s=0, RESERVED=0),\n",
       "  s_ctrl = Register(s_ap_vld=0, RESERVED=0),\n",
       "  c = Register(c=0, RESERVED=0),\n",
       "  c_ctrl = Register(c_ap_vld=0, RESERVED=0)\n",
       "}"
      ]
     },
     "execution_count": 65,
     "metadata": {},
     "output_type": "execute_result"
    }
   ],
   "source": [
    "cordic_2.register_map #theta代表输入角度，s代表正弦值，c代表余弦值"
   ]
  },
  {
   "cell_type": "markdown",
   "id": "1fd8423b",
   "metadata": {},
   "source": [
    "### 3.1功能1的实现（输入横坐标x与纵坐标y，可得坐标对应的模长及角度）\n",
    "\n",
    "#### 3.1.1输入横纵坐标的x与y"
   ]
  },
  {
   "cell_type": "code",
   "execution_count": 66,
   "id": "b713fbab",
   "metadata": {},
   "outputs": [],
   "source": [
    "import struct\n",
    "#########################input############################\n",
    "x_input=1;\n",
    "y_input=1.732;\n",
    "\n",
    "def floatToBytes(f):\n",
    "    bs = struct.pack(\"f\",f)\n",
    "    return (bs[3]<<24)+(bs[2]<<16)+(bs[1]<<8)+bs[0]\n",
    "\n",
    "x=floatToBytes(x_input)  #将输入浮点数转换为二进制\n",
    "y=floatToBytes(y_input)  \n",
    "cordic.write(0x10,x)     #写入相应的寄存器中\n",
    "cordic.write(0x18,y)"
   ]
  },
  {
   "cell_type": "markdown",
   "id": "394d5629",
   "metadata": {},
   "source": [
    "#### 3.1.2开始执行"
   ]
  },
  {
   "cell_type": "code",
   "execution_count": 67,
   "id": "678bd073",
   "metadata": {},
   "outputs": [
    {
     "name": "stdout",
     "output_type": "stream",
     "text": [
      "耗时：0.0009248256683349609s\n"
     ]
    }
   ],
   "source": [
    "import time\n",
    "\n",
    "cordic.register_map.CTRL.AP_START = 1\n",
    "\n",
    "start_time = time.time()\n",
    "\n",
    "while True:\n",
    "    reg = cordic.register_map.CTRL.AP_START\n",
    "    if reg != 1:\n",
    "        break\n",
    "\n",
    "end_time = time.time()\n",
    "\n",
    "print(\"耗时：{}s\".format(end_time - start_time))"
   ]
  },
  {
   "cell_type": "markdown",
   "id": "1d71692f",
   "metadata": {},
   "source": [
    "#### 3.1.3 读出坐标的模值"
   ]
  },
  {
   "cell_type": "code",
   "execution_count": 68,
   "id": "bd5a3c15",
   "metadata": {},
   "outputs": [
    {
     "name": "stdout",
     "output_type": "stream",
     "text": [
      "模值为\n",
      "1.9999561309814453\n"
     ]
    }
   ],
   "source": [
    "r=cordic.read(0x20)\n",
    "\n",
    "def bytesToFloat(h1,h2,h3,h4):\n",
    "    ba = bytearray()\n",
    "    ba.append(h1)\n",
    "    ba.append(h2)\n",
    "    ba.append(h3)\n",
    "    ba.append(h4)\n",
    "    return struct.unpack(\"!f\",ba)[0]\n",
    "\n",
    "h1=(r&0xff000000)>>24\n",
    "h2=(r&0x00ff0000)>>16\n",
    "h3=(r&0x0000ff00)>>8\n",
    "h4=(r&0x000000ff)\n",
    "print(\"模值为\")\n",
    "print(bytesToFloat(h1,h2,h3,h4))  ##将二进制转换为浮点数"
   ]
  },
  {
   "cell_type": "markdown",
   "id": "d37e6324",
   "metadata": {},
   "source": [
    "#### 3.1.4 读出坐标的角度"
   ]
  },
  {
   "cell_type": "code",
   "execution_count": 69,
   "id": "3bb3befb",
   "metadata": {},
   "outputs": [
    {
     "name": "stdout",
     "output_type": "stream",
     "text": [
      "角度为\n",
      "59.9991615563842\n"
     ]
    }
   ],
   "source": [
    "theta=cordic.read(0x30)\n",
    "h1=(theta&0xff000000)>>24\n",
    "h2=(theta&0x00ff0000)>>16\n",
    "h3=(theta&0x0000ff00)>>8\n",
    "h4=(theta&0x000000ff)\n",
    "print(\"角度为\")\n",
    "print(bytesToFloat(h1,h2,h3,h4)/math.pi*180)"
   ]
  },
  {
   "cell_type": "markdown",
   "id": "43ed6af7",
   "metadata": {},
   "source": [
    "### 3.2功能2的实现（输入角度，输出对应的sin与cos）\n",
    "\n",
    "#### 3.2.1输入角度degree"
   ]
  },
  {
   "cell_type": "code",
   "execution_count": 70,
   "id": "c6d57fbc",
   "metadata": {},
   "outputs": [],
   "source": [
    "degree=60          #输入0-90之间的角度\n",
    "radian=degree/180*math.pi\n",
    "\n",
    "#------------------将浮点数radian转换为定点数\n",
    "FL = 10  # 小数部分位数\n",
    "IL = 12-FL  # 整数部分位数\n",
    "round = False  # False 是最近邻取舍，True 是随机取舍\n",
    "MIN = -(1 << (IL - 1))\n",
    "MAX = -MIN - 2 ** (-FL)\n",
    "# 量化范围是[  -2^(IL-1)~2^(IL-1)-2^(-IF)  ]\n",
    "def float_to_fixed(x):\n",
    "\n",
    "    global MIN, MAX, FL\n",
    "    #print(FL)\n",
    "    if x <= MIN: return MIN\n",
    "    if x >= MAX: return MAX\n",
    "    sig = 1\n",
    "    if x < 0:\n",
    "        sig = -1\n",
    "        x = -x\n",
    "    q = int(x)\n",
    "    x -= q\n",
    "    e = 1\n",
    "    for i in range(FL):\n",
    "        x *= 2\n",
    "        e /= 2\n",
    "        if x >= 1:\n",
    "            x -= 1\n",
    "            q += e\n",
    "\n",
    "    if round:  # 随机舍入\n",
    "        r = random()  # 产生0-1的随机数\n",
    "        if r < x:\n",
    "            q += e\n",
    "    else:  # 邻近舍入\n",
    "        if x >= 0.5:\n",
    "            q += e\n",
    "    q *= sig\n",
    "    if q <= MIN: return MIN\n",
    "    if q >= MAX: return MAX\n",
    "    return q\n",
    "#-----------------------------------\n",
    "\n",
    "q=float_to_fixed(radian)  ##将浮点数转换为定点数\n",
    "q_qunt=int(q*2**10)      ##量化\n",
    "#print(q_qunt)\n",
    "\n",
    "cordic_2.write(0x10,q_qunt)     #写入相应的寄存器中"
   ]
  },
  {
   "cell_type": "markdown",
   "id": "a05b2afa",
   "metadata": {},
   "source": [
    "#### 3.2.2开始执行"
   ]
  },
  {
   "cell_type": "code",
   "execution_count": 71,
   "id": "30a281d9",
   "metadata": {},
   "outputs": [
    {
     "name": "stdout",
     "output_type": "stream",
     "text": [
      "耗时：0.0008766651153564453s\n"
     ]
    }
   ],
   "source": [
    "import time\n",
    "\n",
    "cordic_2.register_map.CTRL.AP_START = 1\n",
    "\n",
    "start_time = time.time()\n",
    "\n",
    "while True:\n",
    "    reg = cordic_2.register_map.CTRL.AP_START\n",
    "    if reg != 1:\n",
    "        break\n",
    "\n",
    "end_time = time.time()\n",
    "\n",
    "print(\"耗时：{}s\".format(end_time - start_time))"
   ]
  },
  {
   "cell_type": "markdown",
   "id": "86275d1f",
   "metadata": {},
   "source": [
    "#### 3.2.3读出sin与cos值"
   ]
  },
  {
   "cell_type": "code",
   "execution_count": 72,
   "id": "beb7049e",
   "metadata": {},
   "outputs": [
    {
     "name": "stdout",
     "output_type": "stream",
     "text": [
      "正弦值为\n",
      "0.865234375\n"
     ]
    }
   ],
   "source": [
    "sinx=cordic_2.read(0x18)\n",
    "print(\"正弦值为\")\n",
    "print(sinx/2**10)"
   ]
  },
  {
   "cell_type": "code",
   "execution_count": 73,
   "id": "a58dc733",
   "metadata": {},
   "outputs": [
    {
     "name": "stdout",
     "output_type": "stream",
     "text": [
      "余弦值为\n",
      "0.498046875\n"
     ]
    }
   ],
   "source": [
    "cosx=cordic_2.read(0x28)\n",
    "print(\"余弦值为\")\n",
    "print(cosx/2**10)"
   ]
  },
  {
   "cell_type": "code",
   "execution_count": null,
   "id": "bc812abe",
   "metadata": {},
   "outputs": [],
   "source": []
  }
 ],
 "metadata": {
  "kernelspec": {
   "display_name": "Python 3",
   "language": "python",
   "name": "python3"
  },
  "language_info": {
   "codemirror_mode": {
    "name": "ipython",
    "version": 3
   },
   "file_extension": ".py",
   "mimetype": "text/x-python",
   "name": "python",
   "nbconvert_exporter": "python",
   "pygments_lexer": "ipython3",
   "version": "3.8.2"
  }
 },
 "nbformat": 4,
 "nbformat_minor": 5
}
